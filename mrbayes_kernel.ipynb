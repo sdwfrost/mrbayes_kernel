{
 "cells": [
  {
   "cell_type": "code",
   "execution_count": 1,
   "metadata": {
    "collapsed": false
   },
   "outputs": [
    {
     "data": {
      "text/plain": [
       "\r\n",
       "   Executing file \"primates.nex\"\r\n",
       "   DOS line termination\r\n",
       "   Longest line length = 920\r\n",
       "   Parsing file\r\n",
       "   Expecting NEXUS formatted file\r\n",
       "   Reading data block\r\n",
       "      Allocated taxon set\r\n",
       "      Allocated matrix\r\n",
       "      Defining new matrix with 12 taxa and 898 characters\r\n",
       "      Data is Dna\r\n",
       "      Data matrix is not interleaved\r\n",
       "      Gaps coded as -\r\n",
       "      Taxon  1 -> Tarsius_syrichta\r\n",
       "      Taxon  2 -> Lemur_catta\r\n",
       "      Taxon  3 -> Homo_sapiens\r\n",
       "      Taxon  4 -> Pan\r\n",
       "      Taxon  5 -> Gorilla\r\n",
       "      Taxon  6 -> Pongo\r\n",
       "      Taxon  7 -> Hylobates\r\n",
       "      Taxon  8 -> Macaca_fuscata\r\n",
       "      Taxon  9 -> M_mulatta\r\n",
       "      Taxon 10 -> M_fascicularis\r\n",
       "      Taxon 11 -> M_sylvanus\r\n",
       "      Taxon 12 -> Saimiri_sciureus\r\n",
       "      Successfully read matrix\r\n",
       "      Setting default partition (does not divide up characters)\r\n",
       "      Setting model defaults\r\n",
       "      Seed (for generating default start values) = 1447423478\r\n",
       "      Setting output file names to \"primates.nex.run<i>.<p|t>\"\r\n",
       "   Exiting data block\r\n",
       "   Reached end of file\r\n",
       "\r\n"
      ]
     },
     "execution_count": 1,
     "metadata": {},
     "output_type": "execute_result"
    }
   ],
   "source": [
    "execute primates.nex"
   ]
  },
  {
   "cell_type": "code",
   "execution_count": 2,
   "metadata": {
    "collapsed": false
   },
   "outputs": [
    {
     "data": {
      "text/plain": [
       "\r\n",
       "   Model settings:\r\n",
       "\r\n",
       "      Data not partitioned --\r\n",
       "         Datatype  = DNA\r\n",
       "         Nucmodel  = 4by4\r\n",
       "         Nst       = 1\r\n",
       "         Covarion  = No\r\n",
       "         # States  = 4\r\n",
       "                     State frequencies have a Dirichlet prior\r\n",
       "                     (1.00,1.00,1.00,1.00)\r\n",
       "         Rates     = Equal\r\n",
       "\r\n",
       "   Active parameters: \r\n",
       "\r\n",
       "      Parameters\r\n",
       "      ---------------------\r\n",
       "      Statefreq           1\r\n",
       "      Ratemultiplier      2\r\n",
       "      Topology            3\r\n",
       "      Brlens              4\r\n",
       "      ---------------------\r\n",
       "\r\n",
       "      1 --  Parameter  = Pi\r\n",
       "            Type       = Stationary state frequencies\r\n",
       "            Prior      = Dirichlet\r\n",
       "\r\n",
       "      2 --  Parameter  = Ratemultiplier\r\n",
       "            Type       = Partition-specific rate multiplier\r\n",
       "            Prior      = Fixed(1.0)\r\n",
       "\r\n",
       "      3 --  Parameter  = Tau\r\n",
       "            Type       = Topology\r\n",
       "            Prior      = All topologies equally probable a priori\r\n",
       "            Subparam.  = V\r\n",
       "\r\n",
       "      4 --  Parameter  = V\r\n",
       "            Type       = Branch lengths\r\n",
       "            Prior      = Unconstrained:GammaDir(1.0,0.1000,1.0,1.0)\r\n",
       "\r\n",
       "\r\n"
      ]
     },
     "execution_count": 2,
     "metadata": {},
     "output_type": "execute_result"
    }
   ],
   "source": [
    "showmodel"
   ]
  },
  {
   "cell_type": "code",
   "execution_count": null,
   "metadata": {
    "collapsed": true
   },
   "outputs": [],
   "source": [
    "mcmc"
   ]
  }
 ],
 "metadata": {
  "kernelspec": {
   "display_name": "MrBayes",
   "language": "mrbayes",
   "name": "mrbayes_kernel"
  },
  "language_info": {
   "codemirror_mode": "shell",
   "file_extension": ".nex",
   "help_links": [
    {
     "text": "MetaKernel Magics",
     "url": "https://github.com/calysto/metakernel/blob/master/metakernel/magics/README.md"
    }
   ],
   "mimetype": "text/x-shell",
   "name": "mrbayes_kernel"
  }
 },
 "nbformat": 4,
 "nbformat_minor": 0
}
